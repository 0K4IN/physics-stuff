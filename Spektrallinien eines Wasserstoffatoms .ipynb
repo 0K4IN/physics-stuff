{
 "cells": [
  {
   "cell_type": "code",
   "execution_count": null,
   "id": "a4fce647",
   "metadata": {},
   "outputs": [],
   "source": [
    "from scipy import constants "
   ]
  },
  {
   "cell_type": "code",
   "execution_count": null,
   "id": "1e280176",
   "metadata": {},
   "outputs": [],
   "source": [
    "const = (2*(constants.value('Rydberg constant')*constants.h*constants.c))/constants.e #Energiekonstante in eV\n",
    "n = [1,2,3,4,5,6,7,8,9,10,11,12,13,14,15,16,17,18,19,20,21,22,23,24,25,26] # n entspricht der Anzahl der Energieniveaus"
   ]
  },
  {
   "cell_type": "code",
   "execution_count": null,
   "id": "34dc308d",
   "metadata": {},
   "outputs": [],
   "source": [
    "E_n = const*(1/(2*(n[0]**2))) # Das Energieniveau im n-ten Niveau, hier das 1. Energienieveau"
   ]
  },
  {
   "cell_type": "code",
   "execution_count": null,
   "id": "d581249e",
   "metadata": {},
   "outputs": [],
   "source": [
    "print(E_n)"
   ]
  },
  {
   "cell_type": "code",
   "execution_count": null,
   "id": "945405e9",
   "metadata": {},
   "outputs": [],
   "source": [
    "# Erzeugen eines Arrays mit den einzelnen Energieniveaus\n",
    "Energy = []  \n",
    "for i in range(0, len(n)-1):\n",
    "    Wert = -const*(1/(2*(n[i]**2)))\n",
    "    Energy.append(Wert)\n",
    "    "
   ]
  },
  {
   "cell_type": "code",
   "execution_count": null,
   "id": "d1fb0827",
   "metadata": {},
   "outputs": [],
   "source": [
    "# Für die Energieserien, können nun Funktionen definiert werden\n",
    "\n",
    "#Lyman-Serie: \n",
    "\n",
    "E_diff_1 = []   \n",
    "for i in range(0, len(Energy)-1):\n",
    "    if i <= (len(Energy)-1):\n",
    "        x = Energy[i+1] - Energy[0]\n",
    "        E_diff_1.append(x)\n",
    "    else: \n",
    "        break \n",
    "        \n",
    "# Balmer-Serie: \n",
    "\n",
    "E_diff_2 = [] # Balmer-Series\n",
    "for i in range(1, len(Energy)-1):\n",
    "    if i <= (len(Energy)-1):\n",
    "        x = Energy[i+1] - Energy[1]\n",
    "        E_diff_2.append(x)\n",
    "    else: \n",
    "        break \n",
    "\n",
    "# Paschen-Serie:\n",
    "\n",
    "E_diff_3 = []\n",
    "for i in range(2, len(Energy)-1):\n",
    "    if i <= (len(Energy)-1):\n",
    "        x = Energy[i+1] - Energy[2]\n",
    "        E_diff_3.append(x)\n",
    "    else: \n",
    "        break \n",
    "        \n",
    "# Pfund-Serie:\n",
    "\n",
    "E_diff_4 = [] \n",
    "for i in range(3, len(Energy)-1):\n",
    "    if i <= (len(Energy)-1):\n",
    "        x = Energy[i+1] - Energy[3]\n",
    "        E_diff_4.append(x)\n",
    "    else: \n",
    "        break "
   ]
  },
  {
   "cell_type": "code",
   "execution_count": null,
   "id": "7168cde2",
   "metadata": {},
   "outputs": [],
   "source": [
    "# Analog zun den Serien, können auch die einzelnen Wellenlängen der jeweiligen Energieniveaus angegeben werden\n",
    "\n",
    "# Bestimmung der Wellenlängen der Lyman-Seris\n",
    "Welle_Lyman = []\n",
    "for i in E_diff_1:\n",
    "    x = (constants.c*constants.h)/(i*constants.e)\n",
    "    Welle_Lyman.append(x)\n",
    "    \n",
    "# Bestimmung der Wellenlängen der Balmer-Seris\n",
    "Welle_Balmer = []\n",
    "for i in E_diff_2:\n",
    "    x = (constants.c*constants.h)/(i*constants.e)\n",
    "    Welle_Balmer.append(x)\n",
    "    \n",
    "# Bestimmung der Wellenlängen der Paschen-Seris\n",
    "Welle_Paschen = []\n",
    "for i in E_diff_3:\n",
    "    x = (constants.c*constants.h)/(i*constants.e)\n",
    "    Welle_Paschen.append(x)\n",
    "    \n",
    "# Bestimmung der Wellenlängen der Pfund-Seris\n",
    "Welle_Pfund = []\n",
    "for i in E_diff_4:\n",
    "    x = (constants.c*constants.h)/(i*constants.e)\n",
    "    Welle_Pfund.append(x)"
   ]
  },
  {
   "cell_type": "code",
   "execution_count": null,
   "id": "df51dc1f",
   "metadata": {},
   "outputs": [],
   "source": []
  }
 ],
 "metadata": {
  "kernelspec": {
   "display_name": "Python 3 (ipykernel)",
   "language": "python",
   "name": "python3"
  },
  "language_info": {
   "codemirror_mode": {
    "name": "ipython",
    "version": 3
   },
   "file_extension": ".py",
   "mimetype": "text/x-python",
   "name": "python",
   "nbconvert_exporter": "python",
   "pygments_lexer": "ipython3",
   "version": "3.9.7"
  }
 },
 "nbformat": 4,
 "nbformat_minor": 5
}
